{
  "nbformat": 4,
  "nbformat_minor": 0,
  "metadata": {
    "colab": {
      "name": "ProvaTensorflow.ipynb",
      "provenance": [],
      "collapsed_sections": [],
      "authorship_tag": "ABX9TyMavC0E2RAVg32g3iW2YuRF",
      "include_colab_link": true
    },
    "kernelspec": {
      "name": "python3",
      "display_name": "Python 3"
    },
    "language_info": {
      "name": "python"
    }
  },
  "cells": [
    {
      "cell_type": "markdown",
      "metadata": {
        "id": "view-in-github",
        "colab_type": "text"
      },
      "source": [
        "<a href=\"https://colab.research.google.com/github/euredog/hackeps-2021/blob/neat/ProvaTensorflow.ipynb\" target=\"_parent\"><img src=\"https://colab.research.google.com/assets/colab-badge.svg\" alt=\"Open In Colab\"/></a>"
      ]
    },
    {
      "cell_type": "code",
      "metadata": {
        "id": "c_2LkPIqIPLr"
      },
      "source": [
        "import pandas as pd\n",
        "import numpy as np\n",
        "from sklearn.model_selection import train_test_split\n",
        "from tensorflow.keras.models import Sequential, load_model\n",
        "from tensorflow.keras.layers import Dense\n",
        "from sklearn.metrics import accuracy_score"
      ],
      "execution_count": 14,
      "outputs": []
    },
    {
      "cell_type": "code",
      "metadata": {
        "id": "lASnvYxdH8OU"
      },
      "source": [
        "def get_input_data(water_route: str, air_file: str, amoni_file: str):\n",
        "\t# Load data\n",
        "\tdata_water = pd.read_csv(water_route)\n",
        "\tdata_air = pd.read_csv(air_file)\n",
        "\tdata_amoni = pd.read_csv(amoni_file)\n",
        "\t# Join Data\n",
        "\tresult = data_water.merge(data_air, on='row_date', how='outer', suffixes=('_air', '_water'))\n",
        "\tresult = result.merge(data_amoni, on='row_date').dropna()\n",
        "\t# Split data\n",
        "\tinputs = result[['value_water', 'value_air', 'value']]\n",
        "\toutputs = result[['is_drift', 'dangerous_drift']].astype(int)\n",
        "\treturn inputs.to_numpy(), outputs.to_numpy()"
      ],
      "execution_count": 4,
      "outputs": []
    },
    {
      "cell_type": "code",
      "metadata": {
        "id": "znIImo3oINS7"
      },
      "source": [
        "inputs, outputs = get_input_data(\"/content/aigua.csv\", \"/content/aire.csv\", \"/content/amoni.csv\")\n",
        "x_train, x_test, y_train, y_test = train_test_split(inputs, outputs, test_size=.2)\n",
        "print(len(x_train))\n",
        "print(len(x_test))\n",
        "print(len(y_train))\n",
        "print(len(y_test))"
      ],
      "execution_count": null,
      "outputs": []
    },
    {
      "cell_type": "code",
      "metadata": {
        "id": "JQU2a8iENfnR"
      },
      "source": [
        "model = Sequential()\n",
        "model.add(Dense(units=3, activation='tanh', input_shape=(3,)))\n",
        "model.add(Dense(units=8, activation='tanh'))\n",
        "model.add(Dense(units=4, activation='tanh'))\n",
        "model.add(Dense(units=2, activation='tanh'))"
      ],
      "execution_count": 34,
      "outputs": []
    },
    {
      "cell_type": "code",
      "metadata": {
        "id": "Lz3L_zp5TL2S"
      },
      "source": [
        "model.compile(loss='binary_crossentropy', optimizer='sgd', metrics='accuracy')"
      ],
      "execution_count": 35,
      "outputs": []
    },
    {
      "cell_type": "code",
      "metadata": {
        "id": "Mrs98G_pTnjB"
      },
      "source": [
        "model.fit(x_train, y_train, epochs=200, batch_size=32)"
      ],
      "execution_count": null,
      "outputs": []
    },
    {
      "cell_type": "code",
      "metadata": {
        "id": "w_al-JOPbhEE"
      },
      "source": [
        "predictions = model.predict(x_test)\n",
        "preds = []\n",
        "for row in predictions:\n",
        "    row = [0 if val<0.5 else 1 for val in row]\n",
        "    preds.append(row)"
      ],
      "execution_count": 40,
      "outputs": []
    },
    {
      "cell_type": "code",
      "metadata": {
        "id": "WtUitA5ucAJt"
      },
      "source": [
        "accuracy_score(y_test, preds)"
      ],
      "execution_count": null,
      "outputs": []
    }
  ]
}